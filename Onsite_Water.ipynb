{
  "nbformat": 4,
  "nbformat_minor": 0,
  "metadata": {
    "colab": {
      "provenance": []
    },
    "kernelspec": {
      "name": "python3",
      "display_name": "Python 3"
    },
    "language_info": {
      "name": "python"
    }
  },
  "cells": [
    {
      "cell_type": "code",
      "source": [
        "!pip install psychrolib  # Install the psychrolib library\n",
        "import psychrolib\n",
        "import pandas as pd\n",
        "import os\n",
        "\n",
        "psychrolib.SetUnitSystem(psychrolib.IP)\n",
        "\n",
        "#Wet Bulb Temperature Calculations\n",
        "\n",
        "psi_mb_scale  = 0.0145037738\n",
        "\n",
        "df_res = pd.read_csv(\"UK_Weather.csv\") # depends on file\n",
        "\n",
        "drytemp      = df_res[\"tmpf\"].values\n",
        "relh         = (df_res[\"relh\"].values) * 0.01\n",
        "pressure     = (df_res[\"mslp\"].values) * psi_mb_scale\n",
        "\n",
        "#print(pressure)\n",
        "#wettemp      = convert_to_TWetBulb(drytemp, relh, pressure)\n",
        "wettemp = psychrolib.GetTWetBulbFromRelHum(drytemp, relh, pressure)\n",
        "df_res.insert(4, 'wbtmp',wettemp)\n",
        "\n",
        "print(df_res)\n",
        "# for downloading new file\n",
        "directory = '/Users/laurahitt'\n",
        "\n",
        "file_name = 'UK_Weather.csv'\n",
        "full_path = os.path.join(directory, file_name)\n",
        "\n",
        " #Step 8: Create the directory if it doesn't exist\n",
        "os.makedirs(directory, exist_ok=True)\n",
        "\n",
        "# Step 9: Save the resampled data to a new CSV file\n",
        "df_res.to_csv(full_path, index=False)"
      ],
      "metadata": {
        "colab": {
          "base_uri": "https://localhost:8080/"
        },
        "id": "0N-N1jydOqXI",
        "outputId": "1dd5d6c7-23f9-40d7-c908-f92d35d61232"
      },
      "execution_count": null,
      "outputs": [
        {
          "output_type": "stream",
          "name": "stdout",
          "text": [
            "Requirement already satisfied: psychrolib in /usr/local/lib/python3.10/dist-packages (2.5.0)\n",
            "     station                        valid  tmpf  dwpf      wbtmp    relh  \\\n",
            "0       EGLC  01.01.2023 00:00 (CET/CEST)  54.5  48.2  51.020215  79.265   \n",
            "1       EGLC  01.01.2023 01:00 (CET/CEST)  53.6  45.5  49.267362  73.975   \n",
            "2       EGLC  01.01.2023 02:00 (CET/CEST)  53.6  43.7  48.410995  69.075   \n",
            "3       EGLC  01.01.2023 03:00 (CET/CEST)  52.7  42.8  47.583565  68.980   \n",
            "4       EGLC  01.01.2023 04:00 (CET/CEST)  51.8  42.8  47.157482  71.260   \n",
            "...      ...                          ...   ...   ...        ...     ...   \n",
            "8755    EGLC  31.12.2023 19:00 (CET/CEST)  47.3  40.1  43.799236  76.110   \n",
            "8756    EGLC  31.12.2023 20:00 (CET/CEST)  48.2  39.2  43.821596  70.880   \n",
            "8757    EGLC  31.12.2023 21:00 (CET/CEST)  47.3  41.0  44.186183  78.675   \n",
            "8758    EGLC  31.12.2023 22:00 (CET/CEST)  48.2  41.0  44.617754  76.010   \n",
            "8759    EGLC  31.12.2023 23:00 (CET/CEST)  48.2  41.0  44.617754  76.010   \n",
            "\n",
            "         mslp  \n",
            "0     1013.25  \n",
            "1     1013.25  \n",
            "2     1013.25  \n",
            "3     1013.25  \n",
            "4     1013.25  \n",
            "...       ...  \n",
            "8755  1013.25  \n",
            "8756  1013.25  \n",
            "8757  1013.25  \n",
            "8758  1013.25  \n",
            "8759  1013.25  \n",
            "\n",
            "[8760 rows x 7 columns]\n"
          ]
        }
      ]
    },
    {
      "cell_type": "code",
      "source": [
        "import pandas as pd\n",
        "import os\n",
        "import numpy as np\n",
        "\n",
        "# Onsite water calculation\n",
        "\n",
        "df = pd.read_csv(\"UK_Weather.csv\")\n",
        "wCycle = 6\n",
        "df_temper = df[\"wbtmp\"]\n",
        "\n",
        "wetBulbTemp = df[\"wbtmp\"].values\n",
        "\n",
        "directWue = wCycle/(wCycle-1)*(6e-5* wetBulbTemp**3 - 0.01 * wetBulbTemp**2 + 0.61 * wetBulbTemp - 10.4)\n",
        "\n",
        "df.insert(6, 'directWue',directWue)\n",
        "\n",
        "# for downloading new file\n",
        "directory = '/Users/laurahitt'\n",
        "\n",
        "file_name = 'Direct_UK.csv'\n",
        "full_path = os.path.join(directory, file_name)\n",
        "\n",
        "# Step 8: Create the directory if it doesn't exist\n",
        "os.makedirs(directory, exist_ok=True)\n",
        "\n",
        "# Step 9: Save the resampled data to a new CSV file\n",
        "df.to_csv(full_path, index=False)"
      ],
      "metadata": {
        "id": "vlGpAghL4w5f"
      },
      "execution_count": null,
      "outputs": []
    },
    {
      "cell_type": "code",
      "source": [
        "import pandas as pd\n",
        "import os\n",
        "import numpy as np\n",
        "\n",
        "#Checking for negative numbers and setting to 0\n",
        "\n",
        "df = pd.read_csv(\"Direct_UK.csv\")\n",
        "\n",
        "df[\"directWue\"] = np.where(df[\"directWue\"] < 0, 0, df[\"directWue\"])\n",
        "\n",
        "#print(df.to_string())\n",
        "\n",
        "directory = '/Users/laurahitt'\n",
        "\n",
        "file_name = 'Direct_UK.csv'\n",
        "full_path = os.path.join(directory, file_name)\n",
        "\n",
        "# Step 8: Create the directory if it doesn't exist\n",
        "os.makedirs(directory, exist_ok=True)\n",
        "\n",
        "# Step 9: Save the resampled data to a new CSV file\n",
        "df.to_csv(full_path, index=False)\n"
      ],
      "metadata": {
        "id": "4OOBBrJhWQdd"
      },
      "execution_count": null,
      "outputs": []
    }
  ]
}